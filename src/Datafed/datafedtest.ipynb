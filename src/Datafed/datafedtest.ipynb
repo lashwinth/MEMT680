{
 "cells": [
  {
   "cell_type": "code",
   "execution_count": 8,
   "metadata": {},
   "outputs": [],
   "source": [
    "# Import packages\n",
    "\n",
    "import os\n",
    "import getpass\n",
    "import subprocess\n",
    "from platform import platform\n",
    "import sys\n",
    "from datafed.CommandLib import API\n",
    "from datafed import version as df_ver\n",
    "\n",
    "try:\n",
    "    datapath = os.mkdir(\"./datapath\")\n",
    "except:\n",
    "    datapath = \"./datapath\""
   ]
  },
  {
   "cell_type": "code",
   "execution_count": 9,
   "metadata": {},
   "outputs": [
    {
     "name": "stdout",
     "output_type": "stream",
     "text": [
      "Success! You have DataFed: 2.0.3\n"
     ]
    }
   ],
   "source": [
    "df_api = API()\n",
    "\n",
    "print(\"Success! You have DataFed: \" + df_ver)"
   ]
  },
  {
   "cell_type": "code",
   "execution_count": 10,
   "metadata": {},
   "outputs": [
    {
     "data": {
      "text/plain": [
       "sys.version_info(major=3, minor=8, micro=10, releaselevel='final', serial=0)"
      ]
     },
     "execution_count": 10,
     "metadata": {},
     "output_type": "execute_result"
    }
   ],
   "source": [
    "sys.version_info"
   ]
  },
  {
   "cell_type": "code",
   "execution_count": 11,
   "metadata": {},
   "outputs": [
    {
     "name": "stdout",
     "output_type": "stream",
     "text": [
      "Success! You have been authenticated into DataFed as: u/lashwinth\n"
     ]
    }
   ],
   "source": [
    "if df_api.getAuthUser():\n",
    "    print(\n",
    "        \"Success! You have been authenticated into DataFed as: \" + df_api.getAuthUser()\n",
    "    )\n",
    "else:\n",
    "    print(\"You have not authenticated into DataFed Client\")\n",
    "    print(\n",
    "        'Please follow instructions in the \"Basic Configuration\" section in the link below to authenticate yourself:'\n",
    "    )\n",
    "    print(\"https://ornl.github.io/DataFed/user/client/install.html#basic-configuration\")"
   ]
  },
  {
   "cell_type": "code",
   "execution_count": 12,
   "metadata": {},
   "outputs": [
    {
     "name": "stdout",
     "output_type": "stream",
     "text": [
      "Your default Globus Endpoint in DataFed is:\n",
      "8e6d473a-9232-11ee-8c7f-fd88ce9321ad\n"
     ]
    }
   ],
   "source": [
    "if not df_api.endpointDefaultGet():\n",
    "    print(\"Please follow instructions in the link below to find your Globus Endpoint:\")\n",
    "    print(\n",
    "        \"https://ornl.github.io/DataFed/system/getting_started.html#install-identify-globus-endpoint\"\n",
    "    )\n",
    "    endpoint = input(\n",
    "        \"\\nPlease enter either the Endpoint UUID or Legacy Name for your Globus Endpoint: \"\n",
    "    )\n",
    "    df_api.endpointDefaultSet(endpoint)\n",
    "\n",
    "print(\"Your default Globus Endpoint in DataFed is:\\n\" + df_api.endpointDefaultGet())"
   ]
  },
  {
   "cell_type": "code",
   "execution_count": 13,
   "metadata": {},
   "outputs": [
    {
     "name": "stdout",
     "output_type": "stream",
     "text": [
      "./datapath\n"
     ]
    },
    {
     "data": {
      "text/plain": [
       "(task {\n",
       "   id: \"task/500399382\"\n",
       "   type: TT_DATA_GET\n",
       "   status: TS_SUCCEEDED\n",
       "   client: \"u/lashwinth\"\n",
       "   step: 2\n",
       "   steps: 3\n",
       "   msg: \"Finished\"\n",
       "   ct: 1701646985\n",
       "   ut: 1701646991\n",
       "   source: \"d/498191307\"\n",
       "   dest: \"8e6d473a-9232-11ee-8c7f-fd88ce9321ad/home/lashwinth/serverexample/T380Project/src/Datafed/datapath\"\n",
       " },\n",
       " 'TaskDataReply')"
      ]
     },
     "execution_count": 13,
     "metadata": {},
     "output_type": "execute_result"
    }
   ],
   "source": [
    "# This is a dataGet Command\n",
    "print(datapath)\n",
    "dget_resp = df_api.dataGet(\"d/498191307\", os.path.abspath(datapath), wait=True)\n",
    "dget_resp"
   ]
  }
 ],
 "metadata": {
  "kernelspec": {
   "display_name": "Python 3",
   "language": "python",
   "name": "python3"
  },
  "language_info": {
   "codemirror_mode": {
    "name": "ipython",
    "version": 3
   },
   "file_extension": ".py",
   "mimetype": "text/x-python",
   "name": "python",
   "nbconvert_exporter": "python",
   "pygments_lexer": "ipython3",
   "version": "3.8.10"
  }
 },
 "nbformat": 4,
 "nbformat_minor": 2
}
