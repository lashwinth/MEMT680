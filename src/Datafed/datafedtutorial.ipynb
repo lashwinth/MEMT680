{
 "cells": [
  {
   "cell_type": "code",
   "execution_count": 17,
   "metadata": {},
   "outputs": [
    {
     "name": "stdout",
     "output_type": "stream",
     "text": [
      "(offset: 0\n",
      "count: 20\n",
      "total: 0\n",
      ", 'ListingReply')\n"
     ]
    }
   ],
   "source": [
    "from datafed.CommandLib import API\n",
    "df_api = API()\n",
    "pl_resp = df_api.projectList()\n",
    "print(pl_resp)"
   ]
  },
  {
   "cell_type": "code",
   "execution_count": 18,
   "metadata": {},
   "outputs": [
    {
     "name": "stdout",
     "output_type": "stream",
     "text": [
      "<class 'tuple'> 2\n"
     ]
    },
    {
     "data": {
      "text/plain": [
       "SDMS_Auth_pb2.ListingReply"
      ]
     },
     "execution_count": 18,
     "metadata": {},
     "output_type": "execute_result"
    }
   ],
   "source": [
    "print(type(pl_resp), len(pl_resp))\n",
    "type(pl_resp[0])"
   ]
  },
  {
   "cell_type": "code",
   "execution_count": 19,
   "metadata": {},
   "outputs": [
    {
     "name": "stdout",
     "output_type": "stream",
     "text": [
      "u/lashwinth\n"
     ]
    }
   ],
   "source": [
    "print(df_api.getContext())"
   ]
  },
  {
   "cell_type": "code",
   "execution_count": 26,
   "metadata": {},
   "outputs": [
    {
     "data": {
      "text/plain": [
       "(coll {\n",
       "   id: \"c/500401003\"\n",
       "   title: \"Lashwinth Suresh\"\n",
       "   alias: \"lash\"\n",
       "   owner: \"p/2023_mem680t\"\n",
       "   creator: \"u/lashwinth\"\n",
       "   ct: 1701647609\n",
       "   ut: 1701648300\n",
       "   notes: 0\n",
       " },\n",
       " 'CollDataReply')"
      ]
     },
     "execution_count": 26,
     "metadata": {},
     "output_type": "execute_result"
    }
   ],
   "source": [
    "df_api.collectionView(\"c/500401003\")"
   ]
  }
 ],
 "metadata": {
  "kernelspec": {
   "display_name": "Python 3",
   "language": "python",
   "name": "python3"
  },
  "language_info": {
   "codemirror_mode": {
    "name": "ipython",
    "version": 3
   },
   "file_extension": ".py",
   "mimetype": "text/x-python",
   "name": "python",
   "nbconvert_exporter": "python",
   "pygments_lexer": "ipython3",
   "version": "3.8.10"
  }
 },
 "nbformat": 4,
 "nbformat_minor": 2
}
